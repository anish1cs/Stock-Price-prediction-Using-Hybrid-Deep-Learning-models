{
 "cells": [
  {
   "cell_type": "code",
   "execution_count": 1,
   "id": "86c9470f-e695-4695-88e9-e7ef3de8db4d",
   "metadata": {},
   "outputs": [
    {
     "name": "stdout",
     "output_type": "stream",
     "text": [
      "Requirement already satisfied: yfinance in c:\\users\\kumar\\.anaconda\\lib\\site-packages (0.2.54)\n",
      "Requirement already satisfied: pandas>=1.3.0 in c:\\users\\kumar\\.anaconda\\lib\\site-packages (from yfinance) (2.1.4)\n",
      "Requirement already satisfied: numpy>=1.16.5 in c:\\users\\kumar\\.anaconda\\lib\\site-packages (from yfinance) (1.26.4)\n",
      "Requirement already satisfied: requests>=2.31 in c:\\users\\kumar\\.anaconda\\lib\\site-packages (from yfinance) (2.32.3)\n",
      "Requirement already satisfied: multitasking>=0.0.7 in c:\\users\\kumar\\.anaconda\\lib\\site-packages (from yfinance) (0.0.11)\n",
      "Requirement already satisfied: platformdirs>=2.0.0 in c:\\users\\kumar\\.anaconda\\lib\\site-packages (from yfinance) (3.10.0)\n",
      "Requirement already satisfied: pytz>=2022.5 in c:\\users\\kumar\\.anaconda\\lib\\site-packages (from yfinance) (2023.3.post1)\n",
      "Requirement already satisfied: frozendict>=2.3.4 in c:\\users\\kumar\\.anaconda\\lib\\site-packages (from yfinance) (2.4.2)\n",
      "Requirement already satisfied: peewee>=3.16.2 in c:\\users\\kumar\\.anaconda\\lib\\site-packages (from yfinance) (3.17.9)\n",
      "Requirement already satisfied: beautifulsoup4>=4.11.1 in c:\\users\\kumar\\.anaconda\\lib\\site-packages (from yfinance) (4.12.2)\n",
      "Requirement already satisfied: soupsieve>1.2 in c:\\users\\kumar\\.anaconda\\lib\\site-packages (from beautifulsoup4>=4.11.1->yfinance) (2.5)\n",
      "Requirement already satisfied: python-dateutil>=2.8.2 in c:\\users\\kumar\\.anaconda\\lib\\site-packages (from pandas>=1.3.0->yfinance) (2.8.2)\n",
      "Requirement already satisfied: tzdata>=2022.1 in c:\\users\\kumar\\.anaconda\\lib\\site-packages (from pandas>=1.3.0->yfinance) (2023.3)\n",
      "Requirement already satisfied: charset-normalizer<4,>=2 in c:\\users\\kumar\\.anaconda\\lib\\site-packages (from requests>=2.31->yfinance) (2.0.4)\n",
      "Requirement already satisfied: idna<4,>=2.5 in c:\\users\\kumar\\.anaconda\\lib\\site-packages (from requests>=2.31->yfinance) (3.4)\n",
      "Requirement already satisfied: urllib3<3,>=1.21.1 in c:\\users\\kumar\\.anaconda\\lib\\site-packages (from requests>=2.31->yfinance) (2.0.7)\n",
      "Requirement already satisfied: certifi>=2017.4.17 in c:\\users\\kumar\\.anaconda\\lib\\site-packages (from requests>=2.31->yfinance) (2025.1.31)\n",
      "Requirement already satisfied: six>=1.5 in c:\\users\\kumar\\.anaconda\\lib\\site-packages (from python-dateutil>=2.8.2->pandas>=1.3.0->yfinance) (1.16.0)\n"
     ]
    }
   ],
   "source": [
    "!pip install yfinance\n"
   ]
  },
  {
   "cell_type": "code",
   "execution_count": 3,
   "id": "320f5f0c-1210-4810-a1d9-ad479aa90db1",
   "metadata": {},
   "outputs": [
    {
     "name": "stdout",
     "output_type": "stream",
     "text": [
      "YF.download() has changed argument auto_adjust default to True\n"
     ]
    },
    {
     "name": "stderr",
     "output_type": "stream",
     "text": [
      "[*********************100%***********************]  1 of 1 completed\n"
     ]
    },
    {
     "name": "stdout",
     "output_type": "stream",
     "text": [
      "Data for AAPL saved to AAPL_stock_data.csv\n",
      "Price           Close       High        Low       Open     Volume\n",
      "Ticker           AAPL       AAPL       AAPL       AAPL       AAPL\n",
      "Date                                                             \n",
      "2014-11-03  24.230934  24.430275  23.923064  23.969577  209130400\n",
      "2014-11-04  24.053745  24.250871  23.858835  24.222078  166297600\n",
      "2014-11-05  24.111332  24.208788  23.949644  24.164489  149743600\n",
      "2014-11-06  24.180290  24.200312  23.980087  24.158046  139874000\n",
      "2014-11-07  24.249247  24.318205  24.146920  24.191409  134766000\n"
     ]
    },
    {
     "name": "stderr",
     "output_type": "stream",
     "text": [
      "[*********************100%***********************]  1 of 1 completed\n"
     ]
    },
    {
     "name": "stdout",
     "output_type": "stream",
     "text": [
      "Data for AMZN saved to AMZN_stock_data.csv\n",
      "Price         Close     High      Low     Open    Volume\n",
      "Ticker         AMZN     AMZN     AMZN     AMZN      AMZN\n",
      "Date                                                    \n",
      "2014-11-03  15.2860  15.4005  15.1620  15.3120  64850000\n",
      "2014-11-04  15.1405  15.2125  15.0085  15.1995  68548000\n",
      "2014-11-05  14.8260  15.2000  14.7080  15.1505  93490000\n",
      "2014-11-06  14.8320  14.8500  14.6145  14.8345  75162000\n",
      "2014-11-07  14.9930  14.9995  14.8145  14.8910  52948000\n"
     ]
    },
    {
     "name": "stderr",
     "output_type": "stream",
     "text": [
      "[*********************100%***********************]  1 of 1 completed"
     ]
    },
    {
     "name": "stdout",
     "output_type": "stream",
     "text": [
      "Data for GOOG saved to GOOG_stock_data.csv\n",
      "Price           Close       High        Low       Open    Volume\n",
      "Ticker           GOOG       GOOG       GOOG       GOOG      GOOG\n",
      "Date                                                            \n",
      "2014-11-03  27.554480  27.687482  27.455719  27.568376  27645693\n",
      "2014-11-04  27.499392  27.568376  27.260681  27.444305  24884132\n",
      "2014-11-05  27.092941  27.632895  27.000136  27.632895  40645286\n",
      "2014-11-06  26.900383  27.140831  26.847280  27.072095  26665008\n",
      "2014-11-07  26.849268  27.107333  26.733138  27.107333  32675465\n"
     ]
    },
    {
     "name": "stderr",
     "output_type": "stream",
     "text": [
      "\n"
     ]
    }
   ],
   "source": [
    "import yfinance as yf\n",
    "import pandas as pd\n",
    "\n",
    "def fetch_stock_data(ticker_symbol, start_date='2014-11-01', end_date='2022-07-10'):\n",
    "    try:\n",
    "        # Fetch data using yfinance\n",
    "        stock_data = yf.download(ticker_symbol, start=start_date, end=end_date)\n",
    "        \n",
    "        # Save to CSV\n",
    "        file_name = f'{ticker_symbol}_stock_data.csv'\n",
    "        stock_data.to_csv(file_name)\n",
    "        print(f\"Data for {ticker_symbol} saved to {file_name}\")\n",
    "        \n",
    "        return stock_data\n",
    "    except Exception as e:\n",
    "        print(f\"Error fetching data for {ticker_symbol}: {e}\")\n",
    "\n",
    "if __name__ == \"__main__\":\n",
    "    companies = ['AAPL', 'AMZN', 'GOOG']\n",
    "    for company in companies:\n",
    "        data = fetch_stock_data(company)\n",
    "        print(data.head())\n"
   ]
  },
  {
   "cell_type": "code",
   "execution_count": null,
   "id": "21034efd-f6eb-4af6-b62c-96a37ff63101",
   "metadata": {},
   "outputs": [],
   "source": []
  }
 ],
 "metadata": {
  "kernelspec": {
   "display_name": "Python 3 (ipykernel)",
   "language": "python",
   "name": "python3"
  },
  "language_info": {
   "codemirror_mode": {
    "name": "ipython",
    "version": 3
   },
   "file_extension": ".py",
   "mimetype": "text/x-python",
   "name": "python",
   "nbconvert_exporter": "python",
   "pygments_lexer": "ipython3",
   "version": "3.11.7"
  }
 },
 "nbformat": 4,
 "nbformat_minor": 5
}
